{
 "cells": [
  {
   "cell_type": "code",
   "execution_count": null,
   "id": "7a37dd5e",
   "metadata": {},
   "outputs": [],
   "source": []
  },
  {
   "cell_type": "code",
   "execution_count": 6,
   "id": "a2a8c24d",
   "metadata": {},
   "outputs": [],
   "source": [
    "def get_id_to_bytes_dict():\n",
    "    d = {i: bytes([i]) for i in range(256)}\n",
    "    d[256] = '<|endoftext|>'\n",
    "    return d\n",
    "\n",
    "def get_pair_count(text):\n",
    "    d = {}\n",
    "    if len(text) == 1:\n",
    "        return {}\n",
    "    for pair in zip(text, text[1:]):\n",
    "        d[pair] = d.get(pair, 0) + 1\n",
    "    return d\n",
    "\n",
    "\n",
    "\n",
    "d = get_id_to_bytes_dict()"
   ]
  },
  {
   "cell_type": "code",
   "execution_count": 7,
   "id": "b366e225",
   "metadata": {},
   "outputs": [
    {
     "name": "stdout",
     "output_type": "stream",
     "text": [
      "{0: b'\\x00', 1: b'\\x01', 2: b'\\x02', 3: b'\\x03', 4: b'\\x04', 5: b'\\x05', 6: b'\\x06', 7: b'\\x07', 8: b'\\x08', 9: b'\\t', 10: b'\\n', 11: b'\\x0b', 12: b'\\x0c', 13: b'\\r', 14: b'\\x0e', 15: b'\\x0f', 16: b'\\x10', 17: b'\\x11', 18: b'\\x12', 19: b'\\x13', 20: b'\\x14', 21: b'\\x15', 22: b'\\x16', 23: b'\\x17', 24: b'\\x18', 25: b'\\x19', 26: b'\\x1a', 27: b'\\x1b', 28: b'\\x1c', 29: b'\\x1d', 30: b'\\x1e', 31: b'\\x1f', 32: b' ', 33: b'!', 34: b'\"', 35: b'#', 36: b'$', 37: b'%', 38: b'&', 39: b\"'\", 40: b'(', 41: b')', 42: b'*', 43: b'+', 44: b',', 45: b'-', 46: b'.', 47: b'/', 48: b'0', 49: b'1', 50: b'2', 51: b'3', 52: b'4', 53: b'5', 54: b'6', 55: b'7', 56: b'8', 57: b'9', 58: b':', 59: b';', 60: b'<', 61: b'=', 62: b'>', 63: b'?', 64: b'@', 65: b'A', 66: b'B', 67: b'C', 68: b'D', 69: b'E', 70: b'F', 71: b'G', 72: b'H', 73: b'I', 74: b'J', 75: b'K', 76: b'L', 77: b'M', 78: b'N', 79: b'O', 80: b'P', 81: b'Q', 82: b'R', 83: b'S', 84: b'T', 85: b'U', 86: b'V', 87: b'W', 88: b'X', 89: b'Y', 90: b'Z', 91: b'[', 92: b'\\\\', 93: b']', 94: b'^', 95: b'_', 96: b'`', 97: b'a', 98: b'b', 99: b'c', 100: b'd', 101: b'e', 102: b'f', 103: b'g', 104: b'h', 105: b'i', 106: b'j', 107: b'k', 108: b'l', 109: b'm', 110: b'n', 111: b'o', 112: b'p', 113: b'q', 114: b'r', 115: b's', 116: b't', 117: b'u', 118: b'v', 119: b'w', 120: b'x', 121: b'y', 122: b'z', 123: b'{', 124: b'|', 125: b'}', 126: b'~', 127: b'\\x7f', 128: b'\\x80', 129: b'\\x81', 130: b'\\x82', 131: b'\\x83', 132: b'\\x84', 133: b'\\x85', 134: b'\\x86', 135: b'\\x87', 136: b'\\x88', 137: b'\\x89', 138: b'\\x8a', 139: b'\\x8b', 140: b'\\x8c', 141: b'\\x8d', 142: b'\\x8e', 143: b'\\x8f', 144: b'\\x90', 145: b'\\x91', 146: b'\\x92', 147: b'\\x93', 148: b'\\x94', 149: b'\\x95', 150: b'\\x96', 151: b'\\x97', 152: b'\\x98', 153: b'\\x99', 154: b'\\x9a', 155: b'\\x9b', 156: b'\\x9c', 157: b'\\x9d', 158: b'\\x9e', 159: b'\\x9f', 160: b'\\xa0', 161: b'\\xa1', 162: b'\\xa2', 163: b'\\xa3', 164: b'\\xa4', 165: b'\\xa5', 166: b'\\xa6', 167: b'\\xa7', 168: b'\\xa8', 169: b'\\xa9', 170: b'\\xaa', 171: b'\\xab', 172: b'\\xac', 173: b'\\xad', 174: b'\\xae', 175: b'\\xaf', 176: b'\\xb0', 177: b'\\xb1', 178: b'\\xb2', 179: b'\\xb3', 180: b'\\xb4', 181: b'\\xb5', 182: b'\\xb6', 183: b'\\xb7', 184: b'\\xb8', 185: b'\\xb9', 186: b'\\xba', 187: b'\\xbb', 188: b'\\xbc', 189: b'\\xbd', 190: b'\\xbe', 191: b'\\xbf', 192: b'\\xc0', 193: b'\\xc1', 194: b'\\xc2', 195: b'\\xc3', 196: b'\\xc4', 197: b'\\xc5', 198: b'\\xc6', 199: b'\\xc7', 200: b'\\xc8', 201: b'\\xc9', 202: b'\\xca', 203: b'\\xcb', 204: b'\\xcc', 205: b'\\xcd', 206: b'\\xce', 207: b'\\xcf', 208: b'\\xd0', 209: b'\\xd1', 210: b'\\xd2', 211: b'\\xd3', 212: b'\\xd4', 213: b'\\xd5', 214: b'\\xd6', 215: b'\\xd7', 216: b'\\xd8', 217: b'\\xd9', 218: b'\\xda', 219: b'\\xdb', 220: b'\\xdc', 221: b'\\xdd', 222: b'\\xde', 223: b'\\xdf', 224: b'\\xe0', 225: b'\\xe1', 226: b'\\xe2', 227: b'\\xe3', 228: b'\\xe4', 229: b'\\xe5', 230: b'\\xe6', 231: b'\\xe7', 232: b'\\xe8', 233: b'\\xe9', 234: b'\\xea', 235: b'\\xeb', 236: b'\\xec', 237: b'\\xed', 238: b'\\xee', 239: b'\\xef', 240: b'\\xf0', 241: b'\\xf1', 242: b'\\xf2', 243: b'\\xf3', 244: b'\\xf4', 245: b'\\xf5', 246: b'\\xf6', 247: b'\\xf7', 248: b'\\xf8', 249: b'\\xf9', 250: b'\\xfa', 251: b'\\xfb', 252: b'\\xfc', 253: b'\\xfd', 254: b'\\xfe', 255: b'\\xff', 256: '<|endoftext|>', 257: b'in'}\n"
     ]
    }
   ],
   "source": [
    "def merge(all_merges_dict, pair):\n",
    "    all_merges_dict[len(all_merges_dict)] = all_merges_dict[pair[0]] + all_merges_dict[pair[1]]\n",
    "    return all_merges_dict\n",
    "\n",
    "merges = get_id_to_bytes_dict()\n",
    "merges = merge(merges, (105, 110))\n",
    "print(merges)"
   ]
  },
  {
   "cell_type": "code",
   "execution_count": null,
   "id": "129dbf50",
   "metadata": {},
   "outputs": [
    {
     "name": "stdout",
     "output_type": "stream",
     "text": [
      "Counter({(105, 110): 12, (32, 105): 10, (110, 103): 9, (114, 101): 7, (32, 115): 6, (115, 116): 6, (32, 97): 6, (32, 116): 5, (116, 114): 5, (114, 105): 5, (101, 100): 5, (32, 114): 5, (101, 114): 5, (105, 115): 5, (114, 110): 4, (116, 104): 4, (104, 101): 4, (32, 111): 4, (110, 101): 4, (32, 98): 4, (101, 112): 4, (112, 108): 4, (108, 97): 4, (97, 99): 4, (101, 115): 4, (116, 101): 4, (117, 114): 3, (111, 110): 3, (110, 99): 3, (99, 101): 3, (32, 112): 3, (97, 116): 3, (117, 110): 3, (104, 97): 3, (97, 110): 3, (32, 99): 3, (101, 116): 2, (116, 117): 2, (98, 121): 2, (108, 101): 2, (32, 110): 2, (118, 101): 2, (97, 112): 2, (111, 99): 2, (101, 110): 2, (112, 97): 2, (116, 116): 2, (32, 102): 2, (99, 104): 2, (99, 97): 2, (99, 116): 2, (105, 116): 2, (97, 114): 2, (82, 101): 1, (111, 98): 1, (98, 116): 1, (116, 97): 1, (97, 105): 1, (99, 105): 1, (32, 108): 1, (101, 102): 1, (102, 116): 1, (116, 109): 1, (109, 111): 1, (111, 115): 1, (110, 111): 1, (111, 118): 1, (114, 108): 1, (112, 112): 1, (112, 105): 1, (99, 99): 1, (99, 117): 1, (114, 114): 1, (111, 102): 1, (101, 109): 1, (109, 101): 1, (110, 116): 1, (32, 73): 1, (73, 102): 1, (115, 110): 1, (226, 128): 1, (128, 153): 1, (102, 111): 1, (111, 117): 1, (110, 100): 1, (32, 117): 1, (103, 101): 1, (98, 101): 1, (111, 114): 1, (102, 117): 1, (116, 105): 1, (105, 111): 1, (105, 102): 1, (110, 121): 1, (98, 97): 1, (99, 107): 1, (107, 115): 1, (115, 108): 1, (97, 115): 1, (115, 104): 1, (32, 101): 1, (115, 99): 1, (112, 101): 1, (112, 114): 1, (114, 111): 1, (115, 115): 1, (115, 101): 1, (32, 84): 1, (84, 104): 1, (32, 10): 1, (99, 111): 1, (110, 118): 1, (114, 116): 1, (116, 111): 1, (115, 105): 1, (103, 108): 1, (101, 119): 1, (119, 108): 1, (108, 105): 1, (114, 97): 1})\n"
     ]
    }
   ],
   "source": [
    "import regex as re\n",
    "from collections import Counter\n",
    "\n",
    "class BasicTokenizer:\n",
    "    def __init__(self):\n",
    "        self.pairs = Counter() \n",
    "        self.merges = get_id_to_bytes_dict()\n",
    "        self.vocab_size = 300\n",
    "        self.pat = re.compile(r\"\"\"'s|'t|'re|'ve|'m|'ll|'d| ?\\p{L}+| ?\\p{N}+| ?[^\\s\\p{L}\\p{N}]+|\\s+(?!\\S)|\\s+\"\"\")\n",
    "\n",
    "    def train(self, text=\"\", vocab_size=256):\n",
    "        text = \"\"\"Return the string obtained by replacing the leftmost non-overlapping occurrences of pattern in string by the replacement repl. If the pattern isn’t found, string is returned unchanged. repl can be a string or a function; if it is a string, any backslash escapes in it are processed. That is, \\n is converted to a single newline character,\"\"\"\n",
    "        for a in re.finditer(self.pat, text):\n",
    "            a = a[0].encode(\"utf-8\")\n",
    "            self.pairs.update(get_pair_count(a))\n",
    "        for i in range(300 - len(self.merges)):\n",
    "            self.merges = merge(self.merges, self.pairs)\n",
    "\n",
    "    def encode(self, text):\n",
    "        pass\n",
    "\n",
    "    def decode(self, ids):\n",
    "        pass\n",
    "\n",
    "tokenizer = BasicTokenizer()\n",
    "tokenizer.train()"
   ]
  }
 ],
 "metadata": {
  "kernelspec": {
   "display_name": ".venv",
   "language": "python",
   "name": "python3"
  },
  "language_info": {
   "codemirror_mode": {
    "name": "ipython",
    "version": 3
   },
   "file_extension": ".py",
   "mimetype": "text/x-python",
   "name": "python",
   "nbconvert_exporter": "python",
   "pygments_lexer": "ipython3",
   "version": "3.12.3"
  }
 },
 "nbformat": 4,
 "nbformat_minor": 5
}
