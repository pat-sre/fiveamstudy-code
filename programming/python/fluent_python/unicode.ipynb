{
 "cells": [
  {
   "cell_type": "code",
   "execution_count": 34,
   "id": "88524742",
   "metadata": {},
   "outputs": [],
   "source": [
    "c = '''Hello 世界'''\n",
    "d = 'abcd'"
   ]
  },
  {
   "cell_type": "code",
   "execution_count": 35,
   "id": "a7b8f41f",
   "metadata": {},
   "outputs": [
    {
     "data": {
      "text/plain": [
       "(False, True)"
      ]
     },
     "execution_count": 35,
     "metadata": {},
     "output_type": "execute_result"
    }
   ],
   "source": [
    "c.isascii(), d.isascii()"
   ]
  },
  {
   "cell_type": "code",
   "execution_count": 36,
   "id": "eaf0b548",
   "metadata": {},
   "outputs": [],
   "source": [
    "encoded = c.encode('utf8')"
   ]
  },
  {
   "cell_type": "code",
   "execution_count": 38,
   "id": "c7a065d9",
   "metadata": {},
   "outputs": [
    {
     "data": {
      "text/plain": [
       "'Hello Д╦√Г∙▄'"
      ]
     },
     "execution_count": 38,
     "metadata": {},
     "output_type": "execute_result"
    }
   ],
   "source": [
    "encoded.decode(\"koi8_r\")"
   ]
  },
  {
   "cell_type": "code",
   "execution_count": 24,
   "id": "eccacdbe",
   "metadata": {},
   "outputs": [
    {
     "data": {
      "text/plain": [
       "(b'test string', b'\\x014\\x03;X\\xdd\\xb8')"
      ]
     },
     "execution_count": 24,
     "metadata": {},
     "output_type": "execute_result"
    }
   ],
   "source": [
    "s1 = \"test string\"\n",
    "s2 = [1,52,3,59,88, 221, 184]\n",
    "\n",
    "bytes(s1, encoding=\"u8\"), bytes(s2)"
   ]
  },
  {
   "cell_type": "code",
   "execution_count": 26,
   "id": "f3a30252",
   "metadata": {},
   "outputs": [
    {
     "name": "stdout",
     "output_type": "stream",
     "text": [
      "latin_1\tb'El Ni\\xf1o'\n",
      "u8\tb'El Ni\\xc3\\xb1o'\n",
      "u16\tb'\\xff\\xfeE\\x00l\\x00 \\x00N\\x00i\\x00\\xf1\\x00o\\x00'\n"
     ]
    }
   ],
   "source": [
    "codecs = ['latin_1', 'u8', 'u16']\n",
    "\n",
    "for codec in codecs:\n",
    "    print(codec, 'El Niño'.encode(encoding=codec), sep=\"\\t\")"
   ]
  },
  {
   "cell_type": "code",
   "execution_count": 44,
   "id": "c7a05fde",
   "metadata": {},
   "outputs": [
    {
     "data": {
      "text/plain": [
       "4"
      ]
     },
     "execution_count": 44,
     "metadata": {},
     "output_type": "execute_result"
    }
   ],
   "source": [
    "open('cafe.txt', 'w', encoding='cp1252').write('café')"
   ]
  },
  {
   "cell_type": "code",
   "execution_count": 47,
   "id": "c549804e",
   "metadata": {},
   "outputs": [
    {
     "data": {
      "text/plain": [
       "'café'"
      ]
     },
     "execution_count": 47,
     "metadata": {},
     "output_type": "execute_result"
    }
   ],
   "source": [
    "open('cafe.txt', encoding='cp1252').read()"
   ]
  },
  {
   "cell_type": "code",
   "execution_count": 48,
   "id": "9524dd07",
   "metadata": {},
   "outputs": [
    {
     "name": "stdout",
     "output_type": "stream",
     "text": [
      " locale.getpreferredencoding() -> 'UTF-8'\n",
      "                 type(my_file) -> <class '_io.TextIOWrapper'>\n",
      "              my_file.encoding -> 'UTF-8'\n",
      "           sys.stdout.isatty() -> False\n",
      "           sys.stdout.encoding -> 'UTF-8'\n",
      "            sys.stdin.isatty() -> False\n",
      "            sys.stdin.encoding -> 'utf-8'\n",
      "           sys.stderr.isatty() -> False\n",
      "           sys.stderr.encoding -> 'UTF-8'\n",
      "      sys.getdefaultencoding() -> 'utf-8'\n",
      "   sys.getfilesystemencoding() -> 'utf-8'\n"
     ]
    }
   ],
   "source": [
    "import locale\n",
    "import sys\n",
    "\n",
    "expressions = \"\"\"\n",
    "        locale.getpreferredencoding()\n",
    "        type(my_file)\n",
    "        my_file.encoding\n",
    "        sys.stdout.isatty()\n",
    "        sys.stdout.encoding\n",
    "        sys.stdin.isatty()\n",
    "        sys.stdin.encoding\n",
    "        sys.stderr.isatty()\n",
    "        sys.stderr.encoding\n",
    "        sys.getdefaultencoding()\n",
    "        sys.getfilesystemencoding()\n",
    "    \"\"\"\n",
    "\n",
    "my_file = open('dummy', 'w')\n",
    "\n",
    "for expression in expressions.split():\n",
    "    value = eval(expression)\n",
    "    print(f'{expression:>30} -> {value!r}')"
   ]
  },
  {
   "cell_type": "code",
   "execution_count": 58,
   "id": "99c12564",
   "metadata": {},
   "outputs": [
    {
     "name": "stdout",
     "output_type": "stream",
     "text": [
      "3.12.3 (main, May 26 2025, 18:50:19) [GCC 13.3.0]\n",
      "sys.stdout.isatty()=False\n",
      "sys.stdout.encoding='UTF-8'\n",
      "Trying to output HORIZONTAL ELLIPSIS:\n",
      "…\n",
      "Trying to output INFINITY:\n",
      "∞\n",
      "Trying to output CIRCLED NUMBER FORTY:\n",
      "㊵\n"
     ]
    }
   ],
   "source": [
    "import sys\n",
    "from unicodedata import name\n",
    "\n",
    "print(sys.version)\n",
    "print(f'{sys.stdout.isatty()=}')\n",
    "print(f'{sys.stdout.encoding=}')\n",
    "\n",
    "test_chars = [\n",
    "    '\\N{HORIZONTAL ELLIPSIS}',       # exists in cp1252, not in cp437\n",
    "    '\\N{INFINITY}',                  # exists in cp437, not in cp1252\n",
    "    '\\N{CIRCLED NUMBER FORTY}',  # not in cp437 or in cp1252\n",
    "]\n",
    "\n",
    "for char in test_chars:\n",
    "    print(f'Trying to output {name(char)}:')\n",
    "    print(char)"
   ]
  },
  {
   "cell_type": "code",
   "execution_count": 10,
   "id": "024a502f",
   "metadata": {},
   "outputs": [
    {
     "data": {
      "text/plain": [
       "('café', 'café', False)"
      ]
     },
     "execution_count": 10,
     "metadata": {},
     "output_type": "execute_result"
    }
   ],
   "source": [
    "from unicodedata import normalize\n",
    "import unicodedata\n",
    "\n",
    "s1 = 'café'\n",
    "s2 = 'cafe\\N{COMBINING ACUTE ACCENT}'\n",
    "s1, s2, s1 == s2"
   ]
  },
  {
   "cell_type": "code",
   "execution_count": 9,
   "id": "1a230c1c",
   "metadata": {},
   "outputs": [
    {
     "data": {
      "text/plain": [
       "True"
      ]
     },
     "execution_count": 9,
     "metadata": {},
     "output_type": "execute_result"
    }
   ],
   "source": [
    "normalize('NFD', s1) == normalize('NFD', s2)"
   ]
  },
  {
   "cell_type": "code",
   "execution_count": 17,
   "id": "b03cac73",
   "metadata": {},
   "outputs": [
    {
     "data": {
      "text/plain": [
       "(['a', 'e', 'z', 'z', 'c', 'o', 'n', 'ł'],\n",
       " ['LATIN SMALL LETTER A',\n",
       "  'COMBINING OGONEK',\n",
       "  'LATIN SMALL LETTER E',\n",
       "  'COMBINING OGONEK',\n",
       "  'LATIN SMALL LETTER Z',\n",
       "  'COMBINING DOT ABOVE',\n",
       "  'LATIN SMALL LETTER Z',\n",
       "  'COMBINING ACUTE ACCENT',\n",
       "  'LATIN SMALL LETTER C',\n",
       "  'COMBINING ACUTE ACCENT',\n",
       "  'LATIN SMALL LETTER O',\n",
       "  'COMBINING ACUTE ACCENT',\n",
       "  'LATIN SMALL LETTER N',\n",
       "  'COMBINING ACUTE ACCENT',\n",
       "  'LATIN SMALL LETTER L WITH STROKE'],\n",
       " 'ąężźćóńł')"
      ]
     },
     "execution_count": 17,
     "metadata": {},
     "output_type": "execute_result"
    }
   ],
   "source": [
    "s = \"ąężźćóńł\"\n",
    "s_no_diacritics = [i for i in normalize(\"NFD\", s) if not unicodedata.combining(i)]\n",
    "s_no_diacritics, [unicodedata.name(i) for i in normalize(\"NFD\", s)  ], normalize(\"NFC\", s)"
   ]
  }
 ],
 "metadata": {
  "kernelspec": {
   "display_name": ".venv",
   "language": "python",
   "name": "python3"
  },
  "language_info": {
   "codemirror_mode": {
    "name": "ipython",
    "version": 3
   },
   "file_extension": ".py",
   "mimetype": "text/x-python",
   "name": "python",
   "nbconvert_exporter": "python",
   "pygments_lexer": "ipython3",
   "version": "3.12.3"
  }
 },
 "nbformat": 4,
 "nbformat_minor": 5
}
