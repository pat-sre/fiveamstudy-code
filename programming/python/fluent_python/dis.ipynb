{
 "cells": [
  {
   "cell_type": "code",
   "execution_count": 3,
   "id": "e7afab23",
   "metadata": {},
   "outputs": [
    {
     "name": "stdout",
     "output_type": "stream",
     "text": [
      "  3           0 RESUME                   0\n",
      "\n",
      "  4           2 LOAD_FAST                0 (a)\n",
      "              4 LOAD_CONST               1 (5)\n",
      "              6 COMPARE_OP              40 (==)\n",
      "             10 POP_JUMP_IF_FALSE       17 (to 46)\n",
      "             12 LOAD_FAST                1 (b)\n",
      "             14 LOAD_CONST               2 (10)\n",
      "             16 COMPARE_OP              40 (==)\n",
      "             20 POP_JUMP_IF_FALSE       12 (to 46)\n",
      "\n",
      "  5          22 LOAD_GLOBAL              1 (NULL + print)\n",
      "             32 LOAD_CONST               3 ('In if')\n",
      "             34 CALL                     1\n",
      "             42 POP_TOP\n",
      "             44 RETURN_CONST             0 (None)\n",
      "\n",
      "  7     >>   46 LOAD_GLOBAL              1 (NULL + print)\n",
      "             56 LOAD_CONST               4 ('Else')\n",
      "             58 CALL                     1\n",
      "             66 POP_TOP\n",
      "             68 RETURN_CONST             0 (None)\n"
     ]
    }
   ],
   "source": [
    "import dis\n",
    "\n",
    "def func(a, b):\n",
    "    if a == 5 and b == 10:\n",
    "        print(\"In if\")\n",
    "    else:\n",
    "        print(\"Else\")\n",
    "\n",
    "dis.dis(func)"
   ]
  }
 ],
 "metadata": {
  "kernelspec": {
   "display_name": ".venv",
   "language": "python",
   "name": "python3"
  },
  "language_info": {
   "codemirror_mode": {
    "name": "ipython",
    "version": 3
   },
   "file_extension": ".py",
   "mimetype": "text/x-python",
   "name": "python",
   "nbconvert_exporter": "python",
   "pygments_lexer": "ipython3",
   "version": "3.12.3"
  }
 },
 "nbformat": 4,
 "nbformat_minor": 5
}
