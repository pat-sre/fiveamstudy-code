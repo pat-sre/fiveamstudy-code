{
 "cells": [
  {
   "cell_type": "code",
   "execution_count": null,
   "id": "f0f7f8f7",
   "metadata": {},
   "outputs": [],
   "source": [
    "from typing import Literal\n",
    "\n",
    "def factorial(n: int) -> (int | Literal[1]):\n",
    "    \"\"\"hello this is 5am study\"\"\"\n",
    "    return 1 if n < 2 else n * factorial(n-1)"
   ]
  },
  {
   "cell_type": "code",
   "execution_count": 6,
   "id": "be96c373",
   "metadata": {},
   "outputs": [
    {
     "name": "stdout",
     "output_type": "stream",
     "text": [
      "<function factorial at 0x7556c4a8cae0>\n",
      "hello this is 5am study\n",
      "<class 'function'>\n",
      "129015527033568\n"
     ]
    }
   ],
   "source": [
    "print(factorial)\n",
    "print(factorial.__doc__)\n",
    "print(type(factorial))\n",
    "print(id(factorial))"
   ]
  },
  {
   "cell_type": "code",
   "execution_count": 16,
   "id": "db22fbb3",
   "metadata": {},
   "outputs": [
    {
     "data": {
      "text/plain": [
       "[1, 1, 2, 6, 24, 120, 720, 5040, 40320, 362880]"
      ]
     },
     "execution_count": 16,
     "metadata": {},
     "output_type": "execute_result"
    }
   ],
   "source": [
    "f = factorial\n",
    "list(map(f, range(10)))"
   ]
  },
  {
   "cell_type": "code",
   "execution_count": 21,
   "id": "7226edd8",
   "metadata": {},
   "outputs": [],
   "source": [
    "class MyClass:\n",
    "    def __call__(self):\n",
    "        return 1\n",
    "\n",
    "mc = MyClass()"
   ]
  },
  {
   "cell_type": "code",
   "execution_count": 22,
   "id": "7b3d4b32",
   "metadata": {},
   "outputs": [
    {
     "data": {
      "text/plain": [
       "(True, True, False, True)"
      ]
     },
     "execution_count": 22,
     "metadata": {},
     "output_type": "execute_result"
    }
   ],
   "source": [
    "callable(f), callable(sum), callable(\"string\"), callable(mc)"
   ]
  },
  {
   "cell_type": "code",
   "execution_count": null,
   "id": "9a0d6d60",
   "metadata": {},
   "outputs": [],
   "source": [
    "import random\n",
    "\n",
    "class BingoCage:\n",
    "    \n",
    "    def __init__(self, items):\n",
    "        self._items = list(items)\n",
    "        random.shuffle(self._items)\n",
    "\n",
    "    def pick(self):\n",
    "        try:\n",
    "            return self._items.pop()\n",
    "        except IndexError:\n",
    "            raise LookupError(\"Pick from an empty BingoCage\") \n",
    "        \n",
    "    def __call__(self):\n",
    "        return self.pick()"
   ]
  },
  {
   "cell_type": "code",
   "execution_count": 24,
   "id": "1e255a1c",
   "metadata": {},
   "outputs": [
    {
     "ename": "TypeError",
     "evalue": "myfunc() got some positional-only arguments passed as keyword arguments: 'a'",
     "output_type": "error",
     "traceback": [
      "\u001b[31m---------------------------------------------------------------------------\u001b[39m",
      "\u001b[31mTypeError\u001b[39m                                 Traceback (most recent call last)",
      "\u001b[36mCell\u001b[39m\u001b[36m \u001b[39m\u001b[32mIn[24]\u001b[39m\u001b[32m, line 4\u001b[39m\n\u001b[32m      1\u001b[39m \u001b[38;5;28;01mdef\u001b[39;00m\u001b[38;5;250m \u001b[39m\u001b[34mmyfunc\u001b[39m(a, b, /):\n\u001b[32m      2\u001b[39m     \u001b[38;5;28;01mreturn\u001b[39;00m a * b\n\u001b[32m----> \u001b[39m\u001b[32m4\u001b[39m myfunc(\u001b[32m2\u001b[39m,\u001b[32m5\u001b[39m), \u001b[43mmyfunc\u001b[49m\u001b[43m(\u001b[49m\u001b[43ma\u001b[49m\u001b[43m=\u001b[49m\u001b[32;43m5\u001b[39;49m\u001b[43m)\u001b[49m\n",
      "\u001b[31mTypeError\u001b[39m: myfunc() got some positional-only arguments passed as keyword arguments: 'a'"
     ]
    }
   ],
   "source": [
    "def myfunc(a, b, /):\n",
    "    return a * b\n",
    "\n",
    "myfunc(2,5), myfunc(a=5)"
   ]
  },
  {
   "cell_type": "code",
   "execution_count": 2,
   "id": "ee45a06f",
   "metadata": {},
   "outputs": [
    {
     "data": {
      "text/plain": [
       "(True, False)"
      ]
     },
     "execution_count": 2,
     "metadata": {},
     "output_type": "execute_result"
    }
   ],
   "source": [
    "callable(sum), callable(6)"
   ]
  },
  {
   "cell_type": "code",
   "execution_count": 4,
   "id": "a57b317a",
   "metadata": {},
   "outputs": [
    {
     "data": {
      "text/plain": [
       "'hello'"
      ]
     },
     "execution_count": 4,
     "metadata": {},
     "output_type": "execute_result"
    }
   ],
   "source": [
    "from operator import methodcaller\n",
    "\n",
    "to_lower = methodcaller(\"lower\")\n",
    "to_lower(\"Hello\")"
   ]
  },
  {
   "cell_type": "code",
   "execution_count": 7,
   "id": "e11b5d29",
   "metadata": {},
   "outputs": [
    {
     "data": {
      "text/plain": [
       "30"
      ]
     },
     "execution_count": 7,
     "metadata": {},
     "output_type": "execute_result"
    }
   ],
   "source": [
    "from functools import partial\n",
    "from operator import mul\n",
    "\n",
    "triple = partial(mul, 3)\n",
    "triple(10)"
   ]
  }
 ],
 "metadata": {
  "kernelspec": {
   "display_name": ".venv",
   "language": "python",
   "name": "python3"
  },
  "language_info": {
   "codemirror_mode": {
    "name": "ipython",
    "version": 3
   },
   "file_extension": ".py",
   "mimetype": "text/x-python",
   "name": "python",
   "nbconvert_exporter": "python",
   "pygments_lexer": "ipython3",
   "version": "3.12.3"
  }
 },
 "nbformat": 4,
 "nbformat_minor": 5
}
