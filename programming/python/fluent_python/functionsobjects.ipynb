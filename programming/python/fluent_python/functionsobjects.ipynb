{
 "cells": [
  {
   "cell_type": "code",
   "execution_count": null,
   "id": "f0f7f8f7",
   "metadata": {},
   "outputs": [],
   "source": [
    "from typing import Literal\n",
    "\n",
    "def factorial(n: int) -> (int | Literal[1]):\n",
    "    \"\"\"hello this is 5am study\"\"\"\n",
    "    return 1 if n < 2 else n * factorial(n-1)"
   ]
  },
  {
   "cell_type": "code",
   "execution_count": 6,
   "id": "be96c373",
   "metadata": {},
   "outputs": [
    {
     "name": "stdout",
     "output_type": "stream",
     "text": [
      "<function factorial at 0x7556c4a8cae0>\n",
      "hello this is 5am study\n",
      "<class 'function'>\n",
      "129015527033568\n"
     ]
    }
   ],
   "source": [
    "print(factorial)\n",
    "print(factorial.__doc__)\n",
    "print(type(factorial))\n",
    "print(id(factorial))"
   ]
  },
  {
   "cell_type": "code",
   "execution_count": 16,
   "id": "db22fbb3",
   "metadata": {},
   "outputs": [
    {
     "data": {
      "text/plain": [
       "[1, 1, 2, 6, 24, 120, 720, 5040, 40320, 362880]"
      ]
     },
     "execution_count": 16,
     "metadata": {},
     "output_type": "execute_result"
    }
   ],
   "source": [
    "f = factorial\n",
    "list(map(f, range(10)))"
   ]
  },
  {
   "cell_type": "code",
   "execution_count": null,
   "id": "7226edd8",
   "metadata": {},
   "outputs": [],
   "source": [
    "class MyClass:\n",
    "    pass\n",
    "mc = MyClass()"
   ]
  },
  {
   "cell_type": "code",
   "execution_count": 18,
   "id": "7b3d4b32",
   "metadata": {},
   "outputs": [
    {
     "ename": "NameError",
     "evalue": "name 'MyClass' is not defined",
     "output_type": "error",
     "traceback": [
      "\u001b[31m---------------------------------------------------------------------------\u001b[39m",
      "\u001b[31mNameError\u001b[39m                                 Traceback (most recent call last)",
      "\u001b[36mCell\u001b[39m\u001b[36m \u001b[39m\u001b[32mIn[18]\u001b[39m\u001b[32m, line 1\u001b[39m\n\u001b[32m----> \u001b[39m\u001b[32m1\u001b[39m \u001b[38;5;28mcallable\u001b[39m(f), \u001b[38;5;28mcallable\u001b[39m(\u001b[38;5;28msum\u001b[39m), \u001b[38;5;28mcallable\u001b[39m(\u001b[33m\"\u001b[39m\u001b[33mstring\u001b[39m\u001b[33m\"\u001b[39m), \u001b[38;5;28mcallable\u001b[39m(\u001b[43mMyClass\u001b[49m)\n",
      "\u001b[31mNameError\u001b[39m: name 'MyClass' is not defined"
     ]
    }
   ],
   "source": [
    "callable(f), callable(sum), callable(\"string\"), callable(MyClass)"
   ]
  }
 ],
 "metadata": {
  "kernelspec": {
   "display_name": ".venv",
   "language": "python",
   "name": "python3"
  },
  "language_info": {
   "codemirror_mode": {
    "name": "ipython",
    "version": 3
   },
   "file_extension": ".py",
   "mimetype": "text/x-python",
   "name": "python",
   "nbconvert_exporter": "python",
   "pygments_lexer": "ipython3",
   "version": "3.12.3"
  }
 },
 "nbformat": 4,
 "nbformat_minor": 5
}
