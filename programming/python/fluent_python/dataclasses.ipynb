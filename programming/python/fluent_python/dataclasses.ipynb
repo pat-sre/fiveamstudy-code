{
 "cells": [
  {
   "cell_type": "code",
   "execution_count": 3,
   "id": "ec4cae92",
   "metadata": {},
   "outputs": [
    {
     "data": {
      "text/plain": [
       "('A', 'Math')"
      ]
     },
     "execution_count": 3,
     "metadata": {},
     "output_type": "execute_result"
    }
   ],
   "source": [
    "from collections import namedtuple\n",
    "\n",
    "Test = namedtuple('Test', 'grade subject')\n",
    "test = Test(grade=\"A\", subject=\"Math\")\n",
    "test.grade, test.subject"
   ]
  },
  {
   "cell_type": "code",
   "execution_count": 7,
   "id": "74c992b9",
   "metadata": {},
   "outputs": [
    {
     "data": {
      "text/plain": [
       "('A', 'Math')"
      ]
     },
     "execution_count": 7,
     "metadata": {},
     "output_type": "execute_result"
    }
   ],
   "source": [
    "from typing import NamedTuple\n",
    "\n",
    "Test = NamedTuple(\"Test\", [(\"subject\", str), (\"grade\", str)])\n",
    "test = Test(grade=\"A\", subject=\"Math\")\n",
    "test.grade, test.subject"
   ]
  },
  {
   "cell_type": "code",
   "execution_count": 9,
   "id": "fb4dd085",
   "metadata": {},
   "outputs": [
    {
     "data": {
      "text/plain": [
       "('A', 'Math')"
      ]
     },
     "execution_count": 9,
     "metadata": {},
     "output_type": "execute_result"
    }
   ],
   "source": [
    "Test = NamedTuple(\"Test\", subject=str, grade=str)\n",
    "test = Test(grade=\"A\", subject=\"Math\")\n",
    "test.grade, test.subject"
   ]
  },
  {
   "cell_type": "code",
   "execution_count": 10,
   "id": "88511a9a",
   "metadata": {},
   "outputs": [
    {
     "data": {
      "text/plain": [
       "('A', 'Math')"
      ]
     },
     "execution_count": 10,
     "metadata": {},
     "output_type": "execute_result"
    }
   ],
   "source": [
    "fields_types = dict(\n",
    "    subject=str,\n",
    "    grade=str\n",
    ")\n",
    "Test = NamedTuple(\"Test\", **fields_types)\n",
    "test = Test(grade=\"A\", subject=\"Math\")\n",
    "test.grade, test.subject"
   ]
  },
  {
   "cell_type": "code",
   "execution_count": 16,
   "id": "0737d5d8",
   "metadata": {},
   "outputs": [
    {
     "ename": "TypeError",
     "evalue": "isinstance() arg 2 must be a type, a tuple of types, or a union",
     "output_type": "error",
     "traceback": [
      "\u001b[31m---------------------------------------------------------------------------\u001b[39m",
      "\u001b[31mTypeError\u001b[39m                                 Traceback (most recent call last)",
      "\u001b[36mCell\u001b[39m\u001b[36m \u001b[39m\u001b[32mIn[16]\u001b[39m\u001b[32m, line 3\u001b[39m\n\u001b[32m      1\u001b[39m \u001b[38;5;28;01mimport\u001b[39;00m\u001b[38;5;250m \u001b[39m\u001b[34;01mtyping\u001b[39;00m\n\u001b[32m      2\u001b[39m tnt = NamedTuple(\u001b[33m\"\u001b[39m\u001b[33mtest\u001b[39m\u001b[33m\"\u001b[39m)\n\u001b[32m----> \u001b[39m\u001b[32m3\u001b[39m \u001b[38;5;28;43misinstance\u001b[39;49m\u001b[43m(\u001b[49m\u001b[43mtnt\u001b[49m\u001b[43m,\u001b[49m\u001b[43m \u001b[49m\u001b[43mtyping\u001b[49m\u001b[43m.\u001b[49m\u001b[43mNamedTuple\u001b[49m\u001b[43m)\u001b[49m\n",
      "\u001b[31mTypeError\u001b[39m: isinstance() arg 2 must be a type, a tuple of types, or a union"
     ]
    }
   ],
   "source": [
    "import typing\n",
    "tnt = NamedTuple(\"test\")\n",
    "isinstance(tnt, typing.NamedTuple)"
   ]
  },
  {
   "cell_type": "code",
   "execution_count": 23,
   "id": "3fb5ad4e",
   "metadata": {},
   "outputs": [
    {
     "data": {
      "text/plain": [
       "Test(grade='a', subject='6.006 Linear Algebra', teacher='Gilbert Strang', school='MIT', lst=[])"
      ]
     },
     "execution_count": 23,
     "metadata": {},
     "output_type": "execute_result"
    }
   ],
   "source": [
    "class Test(NamedTuple):\n",
    "    grade: str\n",
    "    subject: str = \"6.006 Linear Algebra\"\n",
    "    teacher: str = \"Gilbert Strang\"\n",
    "    school: str = \"MIT\"\n",
    "    lst: list[int] = []\n",
    "\n",
    "result = Test(\"a\")\n",
    "result"
   ]
  }
 ],
 "metadata": {
  "kernelspec": {
   "display_name": ".venv",
   "language": "python",
   "name": "python3"
  },
  "language_info": {
   "codemirror_mode": {
    "name": "ipython",
    "version": 3
   },
   "file_extension": ".py",
   "mimetype": "text/x-python",
   "name": "python",
   "nbconvert_exporter": "python",
   "pygments_lexer": "ipython3",
   "version": "3.12.3"
  }
 },
 "nbformat": 4,
 "nbformat_minor": 5
}
