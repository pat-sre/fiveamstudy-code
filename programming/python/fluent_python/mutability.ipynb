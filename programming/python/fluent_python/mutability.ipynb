{
 "cells": [
  {
   "cell_type": "code",
   "execution_count": 2,
   "id": "1746f2a3",
   "metadata": {},
   "outputs": [
    {
     "data": {
      "text/plain": [
       "(11760712, 11760712, True)"
      ]
     },
     "execution_count": 2,
     "metadata": {},
     "output_type": "execute_result"
    }
   ],
   "source": [
    "a = 2\n",
    "b = 2\n",
    "id(a), id(b), a is b"
   ]
  },
  {
   "cell_type": "code",
   "execution_count": 4,
   "id": "9fb9d7ab",
   "metadata": {},
   "outputs": [
    {
     "data": {
      "text/plain": [
       "['__new__',\n",
       " '__repr__',\n",
       " '__hash__',\n",
       " '__getattribute__',\n",
       " '__lt__',\n",
       " '__le__',\n",
       " '__eq__',\n",
       " '__ne__',\n",
       " '__gt__',\n",
       " '__ge__',\n",
       " '__add__',\n",
       " '__radd__',\n",
       " '__sub__',\n",
       " '__rsub__',\n",
       " '__mul__',\n",
       " '__rmul__',\n",
       " '__mod__',\n",
       " '__rmod__',\n",
       " '__divmod__',\n",
       " '__rdivmod__',\n",
       " '__pow__',\n",
       " '__rpow__',\n",
       " '__neg__',\n",
       " '__pos__',\n",
       " '__abs__',\n",
       " '__bool__',\n",
       " '__invert__',\n",
       " '__lshift__',\n",
       " '__rlshift__',\n",
       " '__rshift__',\n",
       " '__rrshift__',\n",
       " '__and__',\n",
       " '__rand__',\n",
       " '__xor__',\n",
       " '__rxor__',\n",
       " '__or__',\n",
       " '__ror__',\n",
       " '__int__',\n",
       " '__float__',\n",
       " '__floordiv__',\n",
       " '__rfloordiv__',\n",
       " '__truediv__',\n",
       " '__rtruediv__',\n",
       " '__index__',\n",
       " 'conjugate',\n",
       " 'bit_length',\n",
       " 'bit_count',\n",
       " 'to_bytes',\n",
       " 'from_bytes',\n",
       " 'as_integer_ratio',\n",
       " '__trunc__',\n",
       " '__floor__',\n",
       " '__ceil__',\n",
       " '__round__',\n",
       " '__getnewargs__',\n",
       " '__format__',\n",
       " '__sizeof__',\n",
       " 'is_integer',\n",
       " 'real',\n",
       " 'imag',\n",
       " 'numerator',\n",
       " 'denominator',\n",
       " '__doc__',\n",
       " '__str__',\n",
       " '__setattr__',\n",
       " '__delattr__',\n",
       " '__init__',\n",
       " '__reduce_ex__',\n",
       " '__reduce__',\n",
       " '__getstate__',\n",
       " '__subclasshook__',\n",
       " '__init_subclass__',\n",
       " '__dir__',\n",
       " '__class__']"
      ]
     },
     "execution_count": 4,
     "metadata": {},
     "output_type": "execute_result"
    }
   ],
   "source": [
    "a.__dir__()"
   ]
  },
  {
   "cell_type": "code",
   "execution_count": 8,
   "id": "c4bb4dd4",
   "metadata": {},
   "outputs": [
    {
     "name": "stderr",
     "output_type": "stream",
     "text": [
      "<>:3: SyntaxWarning: \"is\" with 'str' literal. Did you mean \"==\"?\n",
      "<>:3: SyntaxWarning: \"is\" with 'str' literal. Did you mean \"==\"?\n",
      "/tmp/ipykernel_4965/791189487.py:3: SyntaxWarning: \"is\" with 'str' literal. Did you mean \"==\"?\n",
      "  b is \"a\"\n"
     ]
    },
    {
     "data": {
      "text/plain": [
       "True"
      ]
     },
     "execution_count": 8,
     "metadata": {},
     "output_type": "execute_result"
    }
   ],
   "source": [
    "a = \"a\"\n",
    "b = a\n",
    "b is \"a\""
   ]
  },
  {
   "cell_type": "code",
   "execution_count": 11,
   "id": "faff3682",
   "metadata": {},
   "outputs": [
    {
     "ename": "TypeError",
     "evalue": "unhashable type: 'list'",
     "output_type": "error",
     "traceback": [
      "\u001b[31m---------------------------------------------------------------------------\u001b[39m",
      "\u001b[31mTypeError\u001b[39m                                 Traceback (most recent call last)",
      "\u001b[36mCell\u001b[39m\u001b[36m \u001b[39m\u001b[32mIn[11]\u001b[39m\u001b[32m, line 3\u001b[39m\n\u001b[32m      1\u001b[39m tpl = (\u001b[32m1\u001b[39m,\u001b[32m2\u001b[39m)\n\u001b[32m      2\u001b[39m tpl2 = (\u001b[32m1\u001b[39m, [])\n\u001b[32m----> \u001b[39m\u001b[32m3\u001b[39m \u001b[38;5;28mhash\u001b[39m(tpl), \u001b[38;5;28;43mhash\u001b[39;49m\u001b[43m(\u001b[49m\u001b[43mtpl2\u001b[49m\u001b[43m)\u001b[49m\n",
      "\u001b[31mTypeError\u001b[39m: unhashable type: 'list'"
     ]
    }
   ],
   "source": [
    "tpl = (1,2)\n",
    "tpl2 = (1, [])\n",
    "hash(tpl), hash(tpl2)"
   ]
  },
  {
   "cell_type": "code",
   "execution_count": 14,
   "id": "508078e4",
   "metadata": {},
   "outputs": [
    {
     "name": "stdout",
     "output_type": "stream",
     "text": [
      "132822407788544\n"
     ]
    },
    {
     "data": {
      "text/plain": [
       "132822047652448"
      ]
     },
     "execution_count": 14,
     "metadata": {},
     "output_type": "execute_result"
    }
   ],
   "source": [
    "t = (7,8,9)\n",
    "print(id(t))\n",
    "t += (10,11)\n",
    "id(t)"
   ]
  },
  {
   "cell_type": "code",
   "execution_count": 15,
   "id": "8ad9426e",
   "metadata": {},
   "outputs": [
    {
     "name": "stdout",
     "output_type": "stream",
     "text": [
      "132822047532928\n"
     ]
    },
    {
     "data": {
      "text/plain": [
       "132822047532928"
      ]
     },
     "execution_count": 15,
     "metadata": {},
     "output_type": "execute_result"
    }
   ],
   "source": [
    "t = [7,8,9]\n",
    "print(id(t))\n",
    "t += [10,11]\n",
    "id(t)"
   ]
  },
  {
   "cell_type": "code",
   "execution_count": 18,
   "id": "711c5ae6",
   "metadata": {},
   "outputs": [
    {
     "data": {
      "text/plain": [
       "(11813864, 11813864)"
      ]
     },
     "execution_count": 18,
     "metadata": {},
     "output_type": "execute_result"
    }
   ],
   "source": [
    "def test(a):\n",
    "    return id(a)\n",
    "\n",
    "li = \"s\"\n",
    "id(li), test(li)"
   ]
  },
  {
   "cell_type": "code",
   "execution_count": 4,
   "id": "dd7d26a3",
   "metadata": {},
   "outputs": [],
   "source": [
    "class MutableDef:\n",
    "    def __init__(self, lst = []):\n",
    "        self.lst = lst\n",
    "\n",
    "    def __repr__(self):\n",
    "        print(self.lst)"
   ]
  },
  {
   "cell_type": "code",
   "execution_count": 5,
   "id": "1bdfe517",
   "metadata": {},
   "outputs": [
    {
     "data": {
      "text/plain": [
       "[3]"
      ]
     },
     "execution_count": 5,
     "metadata": {},
     "output_type": "execute_result"
    }
   ],
   "source": [
    "a = MutableDef()\n",
    "b = MutableDef()\n",
    "\n",
    "b.lst.append(3)\n",
    "a.lst"
   ]
  },
  {
   "cell_type": "code",
   "execution_count": 6,
   "id": "2d90e950",
   "metadata": {},
   "outputs": [
    {
     "data": {
      "text/plain": [
       "['__add__',\n",
       " '__class__',\n",
       " '__class_getitem__',\n",
       " '__contains__',\n",
       " '__delattr__',\n",
       " '__dir__',\n",
       " '__doc__',\n",
       " '__eq__',\n",
       " '__format__',\n",
       " '__ge__',\n",
       " '__getattribute__',\n",
       " '__getitem__',\n",
       " '__getnewargs__',\n",
       " '__getstate__',\n",
       " '__gt__',\n",
       " '__hash__',\n",
       " '__init__',\n",
       " '__init_subclass__',\n",
       " '__iter__',\n",
       " '__le__',\n",
       " '__len__',\n",
       " '__lt__',\n",
       " '__mul__',\n",
       " '__ne__',\n",
       " '__new__',\n",
       " '__reduce__',\n",
       " '__reduce_ex__',\n",
       " '__repr__',\n",
       " '__rmul__',\n",
       " '__setattr__',\n",
       " '__sizeof__',\n",
       " '__str__',\n",
       " '__subclasshook__',\n",
       " 'count',\n",
       " 'index']"
      ]
     },
     "execution_count": 6,
     "metadata": {},
     "output_type": "execute_result"
    }
   ],
   "source": [
    "dir(MutableDef.__init__.__defaults__)"
   ]
  },
  {
   "cell_type": "code",
   "execution_count": 14,
   "id": "9c8c6e33",
   "metadata": {},
   "outputs": [
    {
     "data": {
      "text/plain": [
       "((), (2, 2))"
      ]
     },
     "execution_count": 14,
     "metadata": {},
     "output_type": "execute_result"
    }
   ],
   "source": [
    "class MutableDef2:\n",
    "    def __init__(self, lst=()):\n",
    "        self.lst = lst\n",
    "\n",
    "    def __repr__(self):\n",
    "        print(self.lst)\n",
    "\n",
    "a = MutableDef2()\n",
    "b = MutableDef2()\n",
    "\n",
    "b.lst += (2,2)\n",
    "a.lst, b.lst"
   ]
  },
  {
   "cell_type": "code",
   "execution_count": 17,
   "id": "3c54edf1",
   "metadata": {},
   "outputs": [
    {
     "data": {
      "text/plain": [
       "(137629483588720, 137629483594192, False)"
      ]
     },
     "execution_count": 17,
     "metadata": {},
     "output_type": "execute_result"
    }
   ],
   "source": [
    "class Test:\n",
    "    def __init__(self, a):\n",
    "        self.a = a\n",
    "\n",
    "a = Test(10)\n",
    "b = Test(10)\n",
    "id(a), id(b), a == b"
   ]
  },
  {
   "cell_type": "code",
   "execution_count": null,
   "id": "954f2949",
   "metadata": {},
   "outputs": [
    {
     "name": "stdout",
     "output_type": "stream",
     "text": [
      "137629476725056 11833640 137629476725056 11833640\n",
      "137629476725056 11833640 137629476725056 137629478286720\n"
     ]
    },
    {
     "data": {
      "text/plain": [
       "([10], (), [10], (99, 100))"
      ]
     },
     "execution_count": 19,
     "metadata": {},
     "output_type": "execute_result"
    }
   ],
   "source": [
    "class MutabilityDemonstration:\n",
    "    # default argument values get stored in the class itself.\n",
    "    # creating a default mutable, leads to reusage of one created object in new instances of the class\n",
    "    def __init__(self, lst=list(), tpl=()):\n",
    "        self.lst = lst\n",
    "        self.tpl = tpl\n",
    "\n",
    "a = MutabilityDemonstration()\n",
    "b = MutabilityDemonstration()\n",
    "print(id(a.lst), id(a.tpl), id(b.lst), id(b.tpl))\n",
    "b.lst.append(10)\n",
    "b.tpl += (99,100)\n",
    "print(id(a.lst), id(a.tpl), id(b.lst), id(b.tpl))\n",
    "a.lst,a.tpl,b.lst,b.tpl"
   ]
  },
  {
   "cell_type": "code",
   "execution_count": null,
   "id": "eca1ef15",
   "metadata": {},
   "outputs": [
    {
     "name": "stdout",
     "output_type": "stream",
     "text": [
      "137629476727936 11833640 137629476638528 11833640\n",
      "137629476727936 11833640 137629476638528 137629610761984\n"
     ]
    },
    {
     "data": {
      "text/plain": [
       "([], (), [10], (99, 100))"
      ]
     },
     "execution_count": 22,
     "metadata": {},
     "output_type": "execute_result"
    }
   ],
   "source": [
    "class MutabilityDemonstrationFixed:\n",
    "    # proper behavior is to set default value to None and assign a new list in the instance itself\n",
    "    def __init__(self, lst=None, tpl=()):\n",
    "        if lst is None:\n",
    "            self.lst = []\n",
    "        else:\n",
    "            self.lst = lst\n",
    "        self.tpl = tpl\n",
    "\n",
    "a = MutabilityDemonstrationFixed()\n",
    "b = MutabilityDemonstrationFixed()\n",
    "print(id(a.lst), id(a.tpl), id(b.lst), id(b.tpl))\n",
    "b.lst.append(10)\n",
    "b.tpl += (99,100)\n",
    "print(id(a.lst), id(a.tpl), id(b.lst), id(b.tpl))\n",
    "a.lst,a.tpl,b.lst,b.tpl"
   ]
  },
  {
   "cell_type": "code",
   "execution_count": null,
   "id": "24e76556",
   "metadata": {},
   "outputs": [
    {
     "name": "stdout",
     "output_type": "stream",
     "text": [
      "Before call: ID 137629478440000, 137629478002368, Values [10, 15], (20, 30)\n",
      "137629478440000 137629478002368\n",
      "137629478440000 137629477929184\n",
      "After call: ID 137629478440000, 137629478002368, Values [10, 15, 20], (20, 30)\n"
     ]
    }
   ],
   "source": [
    "def pass_by_object(a, b):\n",
    "    print(id(a), id(b))\n",
    "    # lists are mutable so appending doesn't influence the id\n",
    "    a.append(20)\n",
    "    # tuples are immutable, so appending requires to create and bind a new tuple, \n",
    "    # thus changing the id\n",
    "    b += (40,50)\n",
    "    print(id(a), id(b))\n",
    "    return a,b\n",
    "    \n",
    "\n",
    "x = [10,15]\n",
    "y = (20,30)\n",
    "print(f\"Before call: ID {id(x)}, {id(y)}, Values {x}, {y}\")\n",
    "pass_by_object(x,y)\n",
    "# The value of x is changed as it's a mutable variable that was passed to the function and changed there\n",
    "# As y was immutable it remained the same, the changed value is kept only in the function scope, not impacting the variable itself\n",
    "print(f\"After call: ID {id(x)}, {id(y)}, Values {x}, {y}\")\n"
   ]
  }
 ],
 "metadata": {
  "kernelspec": {
   "display_name": ".venv",
   "language": "python",
   "name": "python3"
  },
  "language_info": {
   "codemirror_mode": {
    "name": "ipython",
    "version": 3
   },
   "file_extension": ".py",
   "mimetype": "text/x-python",
   "name": "python",
   "nbconvert_exporter": "python",
   "pygments_lexer": "ipython3",
   "version": "3.12.3"
  }
 },
 "nbformat": 4,
 "nbformat_minor": 5
}
