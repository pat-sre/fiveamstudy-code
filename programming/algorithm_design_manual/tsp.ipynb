{
 "cells": [
  {
   "cell_type": "code",
   "execution_count": 3,
   "id": "04e842db",
   "metadata": {},
   "outputs": [],
   "source": [
    "from typing import List\n",
    "import math"
   ]
  },
  {
   "cell_type": "code",
   "execution_count": null,
   "id": "6c0a3534",
   "metadata": {},
   "outputs": [],
   "source": [
    "def distance(p1, p2):\n",
    "    \"\"\"Calculate Euclidean distance between two points.\"\"\"\n",
    "    return math.sqrt((p1[0] - p2[0])**2 + (p1[1] - p2[1])**2)"
   ]
  },
  {
   "cell_type": "code",
   "execution_count": null,
   "id": "6ee7a216",
   "metadata": {},
   "outputs": [],
   "source": [
    "'''\n",
    "NearestNeighbor(P)\n",
    "    Pick and visit an initial point p0 from P\n",
    "    p = p0\n",
    "    i = 0\n",
    "    While there are still unvisited points\n",
    "        i = i +1\n",
    "        Select pi to be the closest unvisited point to pi-1\n",
    "        Visit pi\n",
    "    Return to p0 from pn-1\n",
    "'''\n",
    "def nearest_neighbors(points: List[int]):\n",
    "    visited = points.copy()\n",
    "    total_dist = 0\n",
    "    prev = visited.pop(0)\n",
    "    first = prev\n",
    "    while visited:\n",
    "        min_dist = 2_000_000\n",
    "        if len(visited) == 1:\n",
    "            last_point = visited.pop(0)\n",
    "            total_dist += distance(prev, last_point)\n",
    "            total_dist += distance(last_point, first)\n",
    "            break\n",
    "        else:\n",
    "            for point in visited:\n",
    "                dist = distance(prev, point)\n",
    "                if dist < min_dist:\n",
    "                    min_dist = dist\n",
    "                    next_point = point\n",
    "            total_dist += distance(prev, next_point)\n",
    "            visited.remove(next_point)\n",
    "            prev = next_point\n",
    "\n",
    "\n",
    "    \n",
    "    return total_dist\n",
    "\n"
   ]
  },
  {
   "cell_type": "code",
   "execution_count": 27,
   "id": "1b0a03f6",
   "metadata": {},
   "outputs": [],
   "source": [
    "'''\n",
    "ClosestPair(P )\n",
    "    Let n be the number of points in set P .\n",
    "    For i = 1 to n - 1 do\n",
    "        d = ∞\n",
    "        For each pair of endpoints (s, t) from distinct vertex chains\n",
    "            if dist(s, t) ≤ d then sm = s, tm = t, and d = dist(s, t)\n",
    "        Connect (sm , tm ) by an edge\n",
    "    Connect the two endpoints by an edge\n",
    "'''\n",
    "def closest_pair(points):\n",
    "    total_dist = 0\n",
    "    for i in range(len(points)):\n",
    "        max_dist = 2_000_000\n",
    "        print(points[i])\n",
    "        for first in range(len(points)):\n",
    "            for second in range(1, len(points)):\n",
    "                dist = distance(first, second)\n",
    "                if dist <= max_dist:\n",
    "                    max_dist = dist\n",
    "                    closest_pair = (first, second)\n",
    "        total_dist += distance(*closest_pair)\n",
    "\n",
    "    return total_dist"
   ]
  },
  {
   "cell_type": "code",
   "execution_count": 28,
   "id": "54efcf65",
   "metadata": {},
   "outputs": [
    {
     "name": "stdout",
     "output_type": "stream",
     "text": [
      "Testing Nearest Neighbor algorithm:\n",
      "4 points: 4.0\n",
      "6 points: 13.365058181991749\n",
      "8 points: 24.500621096103206\n",
      "3 points: 8.06449510224598\n",
      "\n",
      "Testing Closest Pair algorithm:\n",
      "(0, 0)\n"
     ]
    },
    {
     "ename": "TypeError",
     "evalue": "'int' object is not subscriptable",
     "output_type": "error",
     "traceback": [
      "\u001b[31m---------------------------------------------------------------------------\u001b[39m",
      "\u001b[31mTypeError\u001b[39m                                 Traceback (most recent call last)",
      "\u001b[36mCell\u001b[39m\u001b[36m \u001b[39m\u001b[32mIn[28]\u001b[39m\u001b[32m, line 23\u001b[39m\n\u001b[32m     20\u001b[39m \u001b[38;5;28mprint\u001b[39m(\u001b[33m\"\u001b[39m\u001b[33m3 points:\u001b[39m\u001b[33m\"\u001b[39m, nearest_neighbors(points_3))\n\u001b[32m     22\u001b[39m \u001b[38;5;28mprint\u001b[39m(\u001b[33m\"\u001b[39m\u001b[38;5;130;01m\\n\u001b[39;00m\u001b[33mTesting Closest Pair algorithm:\u001b[39m\u001b[33m\"\u001b[39m)\n\u001b[32m---> \u001b[39m\u001b[32m23\u001b[39m \u001b[38;5;28mprint\u001b[39m(\u001b[33m\"\u001b[39m\u001b[33m4 points:\u001b[39m\u001b[33m\"\u001b[39m, \u001b[43mclosest_pair\u001b[49m\u001b[43m(\u001b[49m\u001b[43mpoints_4\u001b[49m\u001b[43m)\u001b[49m)\n\u001b[32m     24\u001b[39m \u001b[38;5;28mprint\u001b[39m(\u001b[33m\"\u001b[39m\u001b[33m6 points:\u001b[39m\u001b[33m\"\u001b[39m, closest_pair(points_6))\n\u001b[32m     25\u001b[39m \u001b[38;5;28mprint\u001b[39m(\u001b[33m\"\u001b[39m\u001b[33m8 points:\u001b[39m\u001b[33m\"\u001b[39m, closest_pair(points_8))\n",
      "\u001b[36mCell\u001b[39m\u001b[36m \u001b[39m\u001b[32mIn[27]\u001b[39m\u001b[32m, line 18\u001b[39m, in \u001b[36mclosest_pair\u001b[39m\u001b[34m(points)\u001b[39m\n\u001b[32m     16\u001b[39m \u001b[38;5;28;01mfor\u001b[39;00m first \u001b[38;5;129;01min\u001b[39;00m \u001b[38;5;28mrange\u001b[39m(\u001b[38;5;28mlen\u001b[39m(points)):\n\u001b[32m     17\u001b[39m     \u001b[38;5;28;01mfor\u001b[39;00m second \u001b[38;5;129;01min\u001b[39;00m \u001b[38;5;28mrange\u001b[39m(\u001b[32m1\u001b[39m, \u001b[38;5;28mlen\u001b[39m(points)):\n\u001b[32m---> \u001b[39m\u001b[32m18\u001b[39m         dist = \u001b[43mdistance\u001b[49m\u001b[43m(\u001b[49m\u001b[43mfirst\u001b[49m\u001b[43m,\u001b[49m\u001b[43m \u001b[49m\u001b[43msecond\u001b[49m\u001b[43m)\u001b[49m\n\u001b[32m     19\u001b[39m         \u001b[38;5;28;01mif\u001b[39;00m dist <= max_dist:\n\u001b[32m     20\u001b[39m             max_dist = dist\n",
      "\u001b[36mCell\u001b[39m\u001b[36m \u001b[39m\u001b[32mIn[1]\u001b[39m\u001b[32m, line 5\u001b[39m, in \u001b[36mdistance\u001b[39m\u001b[34m(p1, p2)\u001b[39m\n\u001b[32m      3\u001b[39m \u001b[38;5;28;01mdef\u001b[39;00m\u001b[38;5;250m \u001b[39m\u001b[34mdistance\u001b[39m(p1, p2):\n\u001b[32m      4\u001b[39m \u001b[38;5;250m    \u001b[39m\u001b[33;03m\"\"\"Calculate Euclidean distance between two points.\"\"\"\u001b[39;00m\n\u001b[32m----> \u001b[39m\u001b[32m5\u001b[39m     \u001b[38;5;28;01mreturn\u001b[39;00m math.sqrt((\u001b[43mp1\u001b[49m\u001b[43m[\u001b[49m\u001b[32;43m0\u001b[39;49m\u001b[43m]\u001b[49m - p2[\u001b[32m0\u001b[39m])**\u001b[32m2\u001b[39m + (p1[\u001b[32m1\u001b[39m] - p2[\u001b[32m1\u001b[39m])**\u001b[32m2\u001b[39m)\n",
      "\u001b[31mTypeError\u001b[39m: 'int' object is not subscriptable"
     ]
    }
   ],
   "source": [
    "# Test inputs for TSP algorithms\n",
    "\n",
    "# Small test case - 4 points forming a square\n",
    "points_4 = [(0, 0), (1, 0), (1, 1), (0, 1)]\n",
    "\n",
    "# Medium test case - 6 points\n",
    "points_6 = [(0, 0), (2, 1), (3, 3), (1, 4), (-1, 2), (0, -1)]\n",
    "\n",
    "# Larger test case - 8 points\n",
    "points_8 = [(0, 0), (1, 2), (3, 1), (4, 4), (2, 5), (-1, 3), (-2, 1), (1, -1)]\n",
    "\n",
    "# Edge case - 3 points (minimum for TSP)\n",
    "points_3 = [(0, 0), (3, 0), (1, 2)]\n",
    "\n",
    "# Test both algorithms\n",
    "print(\"Testing Nearest Neighbor algorithm:\")\n",
    "print(\"4 points:\", nearest_neighbors(points_4))\n",
    "print(\"6 points:\", nearest_neighbors(points_6))\n",
    "print(\"8 points:\", nearest_neighbors(points_8))\n",
    "print(\"3 points:\", nearest_neighbors(points_3))\n",
    "\n",
    "print(\"\\nTesting Closest Pair algorithm:\")\n",
    "print(\"4 points:\", closest_pair(points_4))\n",
    "print(\"6 points:\", closest_pair(points_6))\n",
    "print(\"8 points:\", closest_pair(points_8))\n",
    "print(\"3 points:\", closest_pair(points_3))"
   ]
  }
 ],
 "metadata": {
  "kernelspec": {
   "display_name": ".venv",
   "language": "python",
   "name": "python3"
  },
  "language_info": {
   "codemirror_mode": {
    "name": "ipython",
    "version": 3
   },
   "file_extension": ".py",
   "mimetype": "text/x-python",
   "name": "python",
   "nbconvert_exporter": "python",
   "pygments_lexer": "ipython3",
   "version": "3.12.3"
  }
 },
 "nbformat": 4,
 "nbformat_minor": 5
}
